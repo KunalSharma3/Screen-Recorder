{
 "cells": [
  {
   "cell_type": "code",
   "execution_count": null,
   "id": "513a1769",
   "metadata": {},
   "outputs": [],
   "source": [
    "# importing the required packages\n",
    "import pyautogui\n",
    "import cv2\n",
    "import numpy as np\n",
    "  \n",
    "# Specify resolution\n",
    "resolution = (1920, 1080)\n",
    "  \n",
    "# Specify video codec\n",
    "codec = cv2.VideoWriter_fourcc(*\"XVID\")\n",
    "  \n",
    "# Specify name of Output file\n",
    "filename = \"Recording.avi\"\n",
    "  \n",
    "# Specify frames rate. We can choose any \n",
    "# value and experiment with it\n",
    "fps = 60.0\n",
    "  \n",
    "  \n",
    "# Creating a VideoWriter object\n",
    "out = cv2.VideoWriter(filename, codec, fps, resolution)\n",
    "  \n",
    "# Create an Empty window\n",
    "cv2.namedWindow(\"Live\", cv2.WINDOW_NORMAL)\n",
    "  \n",
    "# Resize this window\n",
    "cv2.resizeWindow(\"Live\", 480, 270)\n",
    "  \n",
    "while True:\n",
    "    # Take screenshot using PyAutoGUI\n",
    "    img = pyautogui.screenshot()\n",
    "  \n",
    "    # Convert the screenshot to a numpy array\n",
    "    frame = np.array(img)\n",
    "  \n",
    "    # Convert it from BGR(Blue, Green, Red) to\n",
    "    # RGB(Red, Green, Blue)\n",
    "    frame = cv2.cvtColor(frame, cv2.COLOR_BGR2RGB)\n",
    "  \n",
    "    # Write it to the output file\n",
    "    out.write(frame)\n",
    "      \n",
    "    # Optional: Display the recording screen\n",
    "    cv2.imshow('Live', frame)\n",
    "      \n",
    "    # Stop recording when we press 'q'\n",
    "    if cv2.waitKey(1) == ord('q'):\n",
    "        break\n",
    "  \n",
    "# Release the Video writer\n",
    "out.release()\n",
    "  \n",
    "# Destroy all windows\n",
    "cv2.destroyAllWindows()"
   ]
  }
 ],
 "metadata": {
  "kernelspec": {
   "display_name": "Python 3",
   "language": "python",
   "name": "python3"
  },
  "language_info": {
   "codemirror_mode": {
    "name": "ipython",
    "version": 3
   },
   "file_extension": ".py",
   "mimetype": "text/x-python",
   "name": "python",
   "nbconvert_exporter": "python",
   "pygments_lexer": "ipython3",
   "version": "3.8.8"
  }
 },
 "nbformat": 4,
 "nbformat_minor": 5
}
